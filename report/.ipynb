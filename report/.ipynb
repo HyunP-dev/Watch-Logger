{
 "cells": [
  {
   "cell_type": "code",
   "execution_count": 2,
   "metadata": {},
   "outputs": [],
   "source": [
    "import pandas as pd\n",
    "import matplotlib.pyplot as plt\n",
    "import os"
   ]
  },
  {
   "cell_type": "code",
   "execution_count": 34,
   "metadata": {},
   "outputs": [
    {
     "data": {
      "text/html": [
       "<div>\n",
       "<style scoped>\n",
       "    .dataframe tbody tr th:only-of-type {\n",
       "        vertical-align: middle;\n",
       "    }\n",
       "\n",
       "    .dataframe tbody tr th {\n",
       "        vertical-align: top;\n",
       "    }\n",
       "\n",
       "    .dataframe thead th {\n",
       "        text-align: right;\n",
       "    }\n",
       "</style>\n",
       "<table border=\"1\" class=\"dataframe\">\n",
       "  <thead>\n",
       "    <tr style=\"text-align: right;\">\n",
       "      <th></th>\n",
       "      <th>id</th>\n",
       "      <th>time</th>\n",
       "      <th>bpm</th>\n",
       "      <th>ax</th>\n",
       "      <th>ay</th>\n",
       "      <th>az</th>\n",
       "      <th>gx</th>\n",
       "      <th>gy</th>\n",
       "      <th>gz</th>\n",
       "    </tr>\n",
       "  </thead>\n",
       "  <tbody>\n",
       "    <tr>\n",
       "      <th>0</th>\n",
       "      <td>1069120841</td>\n",
       "      <td>1676271507741</td>\n",
       "      <td>82.0</td>\n",
       "      <td>0.184354</td>\n",
       "      <td>6.533776</td>\n",
       "      <td>7.122750</td>\n",
       "      <td>-0.061087</td>\n",
       "      <td>-0.013439</td>\n",
       "      <td>0.003665</td>\n",
       "    </tr>\n",
       "    <tr>\n",
       "      <th>1</th>\n",
       "      <td>1069120841</td>\n",
       "      <td>1676271507795</td>\n",
       "      <td>82.0</td>\n",
       "      <td>0.256180</td>\n",
       "      <td>6.584054</td>\n",
       "      <td>7.139510</td>\n",
       "      <td>0.116064</td>\n",
       "      <td>0.014661</td>\n",
       "      <td>0.021991</td>\n",
       "    </tr>\n",
       "    <tr>\n",
       "      <th>2</th>\n",
       "      <td>1069120841</td>\n",
       "      <td>1676271507846</td>\n",
       "      <td>82.0</td>\n",
       "      <td>0.268151</td>\n",
       "      <td>6.694188</td>\n",
       "      <td>7.108385</td>\n",
       "      <td>-0.315206</td>\n",
       "      <td>-0.018326</td>\n",
       "      <td>-0.083078</td>\n",
       "    </tr>\n",
       "    <tr>\n",
       "      <th>3</th>\n",
       "      <td>1069120841</td>\n",
       "      <td>1676271507898</td>\n",
       "      <td>82.0</td>\n",
       "      <td>0.620098</td>\n",
       "      <td>6.629545</td>\n",
       "      <td>7.314286</td>\n",
       "      <td>0.012217</td>\n",
       "      <td>-0.101404</td>\n",
       "      <td>-0.043982</td>\n",
       "    </tr>\n",
       "    <tr>\n",
       "      <th>4</th>\n",
       "      <td>1069120841</td>\n",
       "      <td>1676271507950</td>\n",
       "      <td>82.0</td>\n",
       "      <td>0.356736</td>\n",
       "      <td>6.366182</td>\n",
       "      <td>7.271191</td>\n",
       "      <td>-0.239459</td>\n",
       "      <td>-0.021991</td>\n",
       "      <td>-0.068417</td>\n",
       "    </tr>\n",
       "  </tbody>\n",
       "</table>\n",
       "</div>"
      ],
      "text/plain": [
       "           id           time   bpm        ax        ay        az        gx  \\\n",
       "0  1069120841  1676271507741  82.0  0.184354  6.533776  7.122750 -0.061087   \n",
       "1  1069120841  1676271507795  82.0  0.256180  6.584054  7.139510  0.116064   \n",
       "2  1069120841  1676271507846  82.0  0.268151  6.694188  7.108385 -0.315206   \n",
       "3  1069120841  1676271507898  82.0  0.620098  6.629545  7.314286  0.012217   \n",
       "4  1069120841  1676271507950  82.0  0.356736  6.366182  7.271191 -0.239459   \n",
       "\n",
       "         gy        gz  \n",
       "0 -0.013439  0.003665  \n",
       "1  0.014661  0.021991  \n",
       "2 -0.018326 -0.083078  \n",
       "3 -0.101404 -0.043982  \n",
       "4 -0.021991 -0.068417  "
      ]
     },
     "execution_count": 34,
     "metadata": {},
     "output_type": "execute_result"
    }
   ],
   "source": [
    "df = pd.concat([pd.read_csv(f\"dataset/{name}\") for name in os.listdir(\"dataset\")])\n",
    "df.head()"
   ]
  },
  {
   "cell_type": "code",
   "execution_count": 22,
   "metadata": {},
   "outputs": [],
   "source": [
    "import pytz\n",
    "import datetime\n",
    "\n",
    "def ms_to_ts(ms: int) -> datetime.datetime:\n",
    "    return datetime.datetime.fromtimestamp(ms / 1000.0, tz=pytz.timezone('Asia/Seoul'))"
   ]
  },
  {
   "cell_type": "code",
   "execution_count": 35,
   "metadata": {},
   "outputs": [],
   "source": [
    "df[\"ts\"] = df.time.map(ms_to_ts)"
   ]
  },
  {
   "cell_type": "code",
   "execution_count": 36,
   "metadata": {},
   "outputs": [
    {
     "data": {
      "text/plain": [
       "<matplotlib.legend.Legend at 0x7f6dd1453978>"
      ]
     },
     "execution_count": 36,
     "metadata": {},
     "output_type": "execute_result"
    },
    {
     "data": {
      "image/png": "[encoded data removed]",
      "text/plain": [
       "<Figure size 576x432 with 1 Axes>"
      ]
     },
     "metadata": {
      "needs_background": "light"
     },
     "output_type": "display_data"
    }
   ],
   "source": [
    "fig, ax = plt.subplots(figsize=(8, 6))\n",
    "for label, subdf in df.groupby('id'):\n",
    "    subdf.plot(\"ts\", \"bpm\", ax=ax, label=label)\n",
    "plt.legend()"
   ]
  },
  {
   "cell_type": "code",
   "execution_count": null,
   "metadata": {},
   "outputs": [],
   "source": []
  }
 ],
 "metadata": {
  "kernelspec": {
   "display_name": "Anaconda",
   "language": "python",
   "name": "python3"
  },
  "language_info": {
   "codemirror_mode": {
    "name": "ipython",
    "version": 3
   },
   "file_extension": ".py",
   "mimetype": "text/x-python",
   "name": "python",
   "nbconvert_exporter": "python",
   "pygments_lexer": "ipython3",
   "version": "3.6.15 | packaged by conda-forge | (default, Dec  3 2021, 18:49:41) \n[GCC 9.4.0]"
  },
  "orig_nbformat": 4,
  "vscode": {
   "interpreter": {
    "hash": "b4c230064bdb414590e3193c6050dd3dc6caf8d1e4929ba0fc76e68409e8a570"
   }
  }
 },
 "nbformat": 4,
 "nbformat_minor": 2
}
